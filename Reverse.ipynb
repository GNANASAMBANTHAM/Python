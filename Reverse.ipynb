{
  "nbformat": 4,
  "nbformat_minor": 0,
  "metadata": {
    "colab": {
      "name": "Reverse.ipynb",
      "provenance": [],
      "authorship_tag": "ABX9TyM2W99d+m2iWa45txQAl/8X",
      "include_colab_link": true
    },
    "kernelspec": {
      "name": "python3",
      "display_name": "Python 3"
    },
    "language_info": {
      "name": "python"
    }
  },
  "cells": [
    {
      "cell_type": "markdown",
      "metadata": {
        "id": "view-in-github",
        "colab_type": "text"
      },
      "source": [
        "<a href=\"https://colab.research.google.com/github/GNANASAMBANTHAM/Python/blob/main/Reverse.ipynb\" target=\"_parent\"><img src=\"https://colab.research.google.com/assets/colab-badge.svg\" alt=\"Open In Colab\"/></a>"
      ]
    },
    {
      "cell_type": "code",
      "metadata": {
        "colab": {
          "base_uri": "https://localhost:8080/"
        },
        "id": "fsjfusMiLkeC",
        "outputId": "ceead24d-c421-44f5-bd74-0d45e61bcb6a"
      },
      "source": [
        "a=(input(\"Enter Sentence : \"))\n",
        "b=a[::-1]\n",
        "print(\"Reverse Sentence\")\n",
        "print(\"\\n\",b)"
      ],
      "execution_count": 1,
      "outputs": [
        {
          "output_type": "stream",
          "text": [
            "Enter Sentence : am\n",
            "Reverse Sentence\n",
            "\n",
            " ma\n"
          ],
          "name": "stdout"
        }
      ]
    }
  ]
}