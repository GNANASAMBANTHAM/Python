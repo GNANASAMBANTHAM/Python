{
  "nbformat": 4,
  "nbformat_minor": 0,
  "metadata": {
    "colab": {
      "name": "simple Intreset.ipynb",
      "provenance": [],
      "authorship_tag": "ABX9TyN9Yx/jg7TEIGtSzYc6BJNe",
      "include_colab_link": true
    },
    "kernelspec": {
      "name": "python3",
      "display_name": "Python 3"
    },
    "language_info": {
      "name": "python"
    }
  },
  "cells": [
    {
      "cell_type": "markdown",
      "metadata": {
        "id": "view-in-github",
        "colab_type": "text"
      },
      "source": [
        "<a href=\"https://colab.research.google.com/github/GNANASAMBANTHAM/Python/blob/main/simple_Intreset.ipynb\" target=\"_parent\"><img src=\"https://colab.research.google.com/assets/colab-badge.svg\" alt=\"Open In Colab\"/></a>"
      ]
    },
    {
      "cell_type": "code",
      "metadata": {
        "colab": {
          "base_uri": "https://localhost:8080/"
        },
        "id": "Yl4KjAzmKe3u",
        "outputId": "8d83c306-ab73-4e10-b249-c9b322a0291e"
      },
      "source": [
        "p=1000\n",
        "t=2\n",
        "r=1\n",
        "SI=(p*t*r)/100\n",
        "print(\"simple interest is : \",SI)"
      ],
      "execution_count": 1,
      "outputs": [
        {
          "output_type": "stream",
          "text": [
            "simple interest is :  20.0\n"
          ],
          "name": "stdout"
        }
      ]
    }
  ]
}