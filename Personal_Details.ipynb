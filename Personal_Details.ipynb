{
  "nbformat": 4,
  "nbformat_minor": 0,
  "metadata": {
    "colab": {
      "name": "Personal Details.ipynb",
      "provenance": [],
      "authorship_tag": "ABX9TyPIZDVlCzCCVtYZOslDLfue",
      "include_colab_link": true
    },
    "kernelspec": {
      "name": "python3",
      "display_name": "Python 3"
    },
    "language_info": {
      "name": "python"
    }
  },
  "cells": [
    {
      "cell_type": "markdown",
      "metadata": {
        "id": "view-in-github",
        "colab_type": "text"
      },
      "source": [
        "<a href=\"https://colab.research.google.com/github/GNANASAMBANTHAM/Python/blob/main/Personal_Details.ipynb\" target=\"_parent\"><img src=\"https://colab.research.google.com/assets/colab-badge.svg\" alt=\"Open In Colab\"/></a>"
      ]
    },
    {
      "cell_type": "code",
      "metadata": {
        "colab": {
          "base_uri": "https://localhost:8080/"
        },
        "id": "py__9IHbK-tQ",
        "outputId": "7f20d511-4375-4355-87fe-2c9373400765"
      },
      "source": [
        "name=(input(\"Enter your Name : \"))\n",
        "age=(input(\"Enter your Age : \"))\n",
        "address=(input(\"Enter your Address : \"))\n",
        "salary=(input(\"Enter your Salary : \"))\n",
        "no=(input(\"Enter your Mobile Number\"))\n",
        "print(\"NAME :\",name)\n",
        "print(\"\\nAGE :\",age)\n",
        "print(\"\\nADDRESS :\",address)\n",
        "print(\"\\nSALARY :\",salary)\n",
        "print(\"\\nMOBILE NUMBER :\",no)"
      ],
      "execution_count": 1,
      "outputs": [
        {
          "output_type": "stream",
          "text": [
            "Enter your Name : sam\n",
            "Enter your Age : 20\n",
            "Enter your Address : erode\n",
            "Enter your Salary : 100000\n",
            "Enter your Mobile Number9949099287\n",
            "NAME : sam\n",
            "\n",
            "AGE : 20\n",
            "\n",
            "ADDRESS : erode\n",
            "\n",
            "SALARY : 100000\n",
            "\n",
            "MOBILE NUMBER : 9949099287\n"
          ],
          "name": "stdout"
        }
      ]
    }
  ]
}